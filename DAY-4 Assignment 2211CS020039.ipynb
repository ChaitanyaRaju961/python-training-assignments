{
 "cells": [
  {
   "cell_type": "code",
   "execution_count": 1,
   "id": "41f1c16d",
   "metadata": {},
   "outputs": [
    {
     "name": "stdout",
     "output_type": "stream",
     "text": [
      "Enter a positive integer: 24\n",
      "Sum of all even numbers between 1 and 24 is: 156\n"
     ]
    }
   ],
   "source": [
    "n = int(input(\"Enter a positive integer: \"))\n",
    "sum_even = 0\n",
    "for i in range(2, n + 1, 2):  \n",
    "    sum_even += i\n",
    "print(\"Sum of all even numbers between 1 and\", n, \"is:\", sum_even)"
   ]
  },
  {
   "cell_type": "code",
   "execution_count": null,
   "id": "9177440d",
   "metadata": {},
   "outputs": [],
   "source": []
  }
 ],
 "metadata": {
  "kernelspec": {
   "display_name": "Python 3 (ipykernel)",
   "language": "python",
   "name": "python3"
  },
  "language_info": {
   "codemirror_mode": {
    "name": "ipython",
    "version": 3
   },
   "file_extension": ".py",
   "mimetype": "text/x-python",
   "name": "python",
   "nbconvert_exporter": "python",
   "pygments_lexer": "ipython3",
   "version": "3.11.5"
  }
 },
 "nbformat": 4,
 "nbformat_minor": 5
}
