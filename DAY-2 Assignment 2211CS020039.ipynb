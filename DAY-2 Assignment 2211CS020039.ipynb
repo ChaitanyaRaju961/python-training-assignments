{
 "cells": [
  {
   "cell_type": "code",
   "execution_count": 2,
   "id": "1f28ad7b",
   "metadata": {},
   "outputs": [
    {
     "name": "stdout",
     "output_type": "stream",
     "text": [
      "100\n",
      "305\n",
      "507\n",
      "[204, 305, 406]\n"
     ]
    }
   ],
   "source": [
    "my_list = [100, 204, 305, 406, 507]\n",
    "print(my_list[0])   \n",
    "print(my_list[2])   \n",
    "print(my_list[-1])  \n",
    "print(my_list[1:4]) "
   ]
  },
  {
   "cell_type": "code",
   "execution_count": 3,
   "id": "4563b7a9",
   "metadata": {},
   "outputs": [
    {
     "name": "stdout",
     "output_type": "stream",
     "text": [
      "200\n",
      "400\n",
      "(400, 500)\n"
     ]
    }
   ],
   "source": [
    "my_tuple = (100, 200, 300, 400, 500)\n",
    "print(my_tuple[1])  \n",
    "print(my_tuple[-2]) \n",
    "print(my_tuple[3:])"
   ]
  },
  {
   "cell_type": "code",
   "execution_count": 4,
   "id": "13315e98",
   "metadata": {},
   "outputs": [
    {
     "name": "stdout",
     "output_type": "stream",
     "text": [
      "1\n",
      "3\n",
      "5\n",
      "['a', 'b', 'c', 'd', 'e']\n",
      "[1, 2, 3, 4, 5]\n"
     ]
    }
   ],
   "source": [
    "my_dict = {'a': 1, 'b': 2, 'c': 3, 'd': 4, 'e': 5}\n",
    "print(my_dict['a'])  \n",
    "print(my_dict['c'])\n",
    "print(my_dict.get('e'))\n",
    "print(list(my_dict.keys()))   \n",
    "print(list(my_dict.values())) "
   ]
  },
  {
   "cell_type": "code",
   "execution_count": null,
   "id": "a0918092",
   "metadata": {},
   "outputs": [],
   "source": []
  }
 ],
 "metadata": {
  "kernelspec": {
   "display_name": "Python 3 (ipykernel)",
   "language": "python",
   "name": "python3"
  },
  "language_info": {
   "codemirror_mode": {
    "name": "ipython",
    "version": 3
   },
   "file_extension": ".py",
   "mimetype": "text/x-python",
   "name": "python",
   "nbconvert_exporter": "python",
   "pygments_lexer": "ipython3",
   "version": "3.11.5"
  }
 },
 "nbformat": 4,
 "nbformat_minor": 5
}
