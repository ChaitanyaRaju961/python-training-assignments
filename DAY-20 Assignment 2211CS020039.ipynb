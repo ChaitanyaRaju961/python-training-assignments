{
 "cells": [
  {
   "cell_type": "code",
   "execution_count": 2,
   "id": "5646a240",
   "metadata": {},
   "outputs": [
    {
     "name": "stdout",
     "output_type": "stream",
     "text": [
      "WordCloud saved as wordcloud.png\n"
     ]
    }
   ],
   "source": [
    "from wordcloud import WordCloud\n",
    "import matplotlib.pyplot as plt\n",
    "\n",
    "def generate_wordcloud(text, output_file):\n",
    "    \"\"\"\n",
    "    Generates a WordCloud from the given text and saves it as an image.\n",
    "    \n",
    "    Parameters:\n",
    "        text (str): The input text.\n",
    "        output_file (str): The file path to save the WordCloud image.\n",
    "    \"\"\"\n",
    "    wordcloud = WordCloud(width=800, height=400, background_color='white').generate(text)\n",
    "    plt.figure(figsize=(10, 5))\n",
    "    plt.imshow(wordcloud, interpolation='bilinear')\n",
    "    plt.axis('off')  \n",
    "    plt.savefig(output_file, format='png')  \n",
    "    plt.close()  \n",
    "    print(f\"WordCloud saved as {output_file}\")\n",
    "text = 'data science machine learning artificial intelligence'\n",
    "output_file = 'wordcloud.png'\n",
    "generate_wordcloud(text, output_file)"
   ]
  },
  {
   "cell_type": "code",
   "execution_count": null,
   "id": "4e05817f",
   "metadata": {},
   "outputs": [],
   "source": []
  }
 ],
 "metadata": {
  "kernelspec": {
   "display_name": "Python 3 (ipykernel)",
   "language": "python",
   "name": "python3"
  },
  "language_info": {
   "codemirror_mode": {
    "name": "ipython",
    "version": 3
   },
   "file_extension": ".py",
   "mimetype": "text/x-python",
   "name": "python",
   "nbconvert_exporter": "python",
   "pygments_lexer": "ipython3",
   "version": "3.11.5"
  }
 },
 "nbformat": 4,
 "nbformat_minor": 5
}
