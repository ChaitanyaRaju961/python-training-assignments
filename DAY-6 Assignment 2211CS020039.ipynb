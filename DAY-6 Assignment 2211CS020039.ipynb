{
 "cells": [
  {
   "cell_type": "code",
   "execution_count": 3,
   "id": "b4d18dbd",
   "metadata": {},
   "outputs": [
    {
     "name": "stderr",
     "output_type": "stream",
     "text": [
      "[nltk_data] Downloading package stopwords to\n",
      "[nltk_data]     C:\\Users\\rajuc\\AppData\\Roaming\\nltk_data...\n",
      "[nltk_data]   Package stopwords is already up-to-date!\n"
     ]
    },
    {
     "name": "stdout",
     "output_type": "stream",
     "text": [
      "Enter a text: chaitanya is the good boy\n",
      "\n",
      "Text in lowercase:\n",
      " chaitanya is the good boy\n",
      "\n",
      "Text after removing stopwords:\n",
      " chaitanya good boy\n"
     ]
    }
   ],
   "source": [
    "import nltk\n",
    "import spacy\n",
    "from nltk.corpus import stopwords\n",
    "nltk.download('stopwords')\n",
    "nlp = spacy.load('en_core_web_sm')\n",
    "text = input(\"Enter a text: \")\n",
    "text_lower = text.lower()\n",
    "print(\"\\nText in lowercase:\\n\", text_lower)\n",
    "doc = nlp(text_lower)\n",
    "stop_words = set(stopwords.words('english'))\n",
    "filtered_words = [word.text for word in doc if word.text not in stop_words]\n",
    "print(\"\\nText after removing stopwords:\\n\", \" \".join(filtered_words))"
   ]
  },
  {
   "cell_type": "code",
   "execution_count": null,
   "id": "78bb9ae5",
   "metadata": {},
   "outputs": [],
   "source": []
  }
 ],
 "metadata": {
  "kernelspec": {
   "display_name": "Python 3 (ipykernel)",
   "language": "python",
   "name": "python3"
  },
  "language_info": {
   "codemirror_mode": {
    "name": "ipython",
    "version": 3
   },
   "file_extension": ".py",
   "mimetype": "text/x-python",
   "name": "python",
   "nbconvert_exporter": "python",
   "pygments_lexer": "ipython3",
   "version": "3.11.5"
  }
 },
 "nbformat": 4,
 "nbformat_minor": 5
}
