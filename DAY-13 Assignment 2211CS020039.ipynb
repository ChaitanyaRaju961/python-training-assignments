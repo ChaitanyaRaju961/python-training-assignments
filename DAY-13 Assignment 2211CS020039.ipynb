{
 "cells": [
  {
   "cell_type": "code",
   "execution_count": 1,
   "id": "5c3a8d20",
   "metadata": {},
   "outputs": [
    {
     "name": "stdout",
     "output_type": "stream",
     "text": [
      "Word | POS Tag\n",
      "NLP | PROPN\n",
      "is | AUX\n",
      "amazing | ADJ\n",
      "and | CCONJ\n",
      "fun | ADJ\n",
      "to | PART\n",
      "learn | VERB\n",
      ". | PUNCT\n"
     ]
    }
   ],
   "source": [
    "import spacy\n",
    "nlp = spacy.load('en_core_web_sm')\n",
    "sentence = 'NLP is amazing and fun to learn.'\n",
    "doc = nlp(sentence)\n",
    "print(\"Word | POS Tag\")\n",
    "for token in doc:\n",
    "    print(f\"{token.text} | {token.pos_}\")"
   ]
  },
  {
   "cell_type": "code",
   "execution_count": null,
   "id": "44d86a64",
   "metadata": {},
   "outputs": [],
   "source": []
  }
 ],
 "metadata": {
  "kernelspec": {
   "display_name": "Python 3 (ipykernel)",
   "language": "python",
   "name": "python3"
  },
  "language_info": {
   "codemirror_mode": {
    "name": "ipython",
    "version": 3
   },
   "file_extension": ".py",
   "mimetype": "text/x-python",
   "name": "python",
   "nbconvert_exporter": "python",
   "pygments_lexer": "ipython3",
   "version": "3.11.5"
  }
 },
 "nbformat": 4,
 "nbformat_minor": 5
}
